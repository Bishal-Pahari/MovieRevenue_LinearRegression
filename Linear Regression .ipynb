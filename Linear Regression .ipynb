{
  "metadata": {
    "language_info": {
      "codemirror_mode": {
        "name": "python",
        "version": 3
      },
      "file_extension": ".py",
      "mimetype": "text/x-python",
      "name": "python",
      "nbconvert_exporter": "python",
      "pygments_lexer": "ipython3",
      "version": "3.8"
    },
    "kernelspec": {
      "name": "python",
      "display_name": "Python (Pyodide)",
      "language": "python"
    }
  },
  "nbformat_minor": 4,
  "nbformat": 4,
  "cells": [
    {
      "cell_type": "code",
      "source": "import pandas\nfrom pandas import DataFrame\nimport matplotlib.pyplot as plt\nfrom sklearn.linear_model import LinearRegression",
      "metadata": {
        "trusted": true
      },
      "execution_count": null,
      "outputs": []
    },
    {
      "cell_type": "code",
      "source": "data = pandas.read_csv('cost_revenue_clean.csv')",
      "metadata": {
        "trusted": true
      },
      "execution_count": null,
      "outputs": []
    },
    {
      "cell_type": "code",
      "source": "data.describe()",
      "metadata": {
        "trusted": true
      },
      "execution_count": null,
      "outputs": []
    },
    {
      "cell_type": "code",
      "source": "X = DataFrame(data, columns=['production_budget_usd'])\ny = DataFrame(data, columns=['worldwide_gross_usd'])",
      "metadata": {
        "trusted": true
      },
      "execution_count": null,
      "outputs": []
    },
    {
      "cell_type": "code",
      "source": "plt.figure(figsize=(10,6))\nplt.scatter(X,y, alpha=0.3)\nplt.title('Film Cost vs Global Revenue')\nplt.xlabel('production budget $')\nplt.ylabel('worldwide gross $')\nplt.xlim(0, 450000000)\nplt.ylim(0, 3000000000)\nplt.show()",
      "metadata": {
        "trusted": true
      },
      "execution_count": null,
      "outputs": []
    },
    {
      "cell_type": "code",
      "source": "regression = LinearRegression()\nregression.fit(X, y)",
      "metadata": {
        "trusted": true
      },
      "execution_count": null,
      "outputs": []
    },
    {
      "cell_type": "markdown",
      "source": "Slope coefficient",
      "metadata": {}
    },
    {
      "cell_type": "code",
      "source": "regression.coef_",
      "metadata": {
        "trusted": true
      },
      "execution_count": null,
      "outputs": []
    },
    {
      "cell_type": "code",
      "source": "plt.figure(figsize=(10,6))\nplt.scatter(X,y, alpha=0.3)\nplt.plot(X, regression.predict(X), color='red', linewidth=4)\nplt.title('Film Cost vs Global Revenue')\nplt.xlabel('production budget $')\nplt.ylabel('worldwide gross $')\nplt.xlim(0, 450000000)\nplt.ylim(0, 3000000000)\nplt.show()",
      "metadata": {
        "trusted": true
      },
      "execution_count": null,
      "outputs": []
    },
    {
      "cell_type": "code",
      "source": "#How accureate is our model?\nregression.score(X,y)",
      "metadata": {},
      "execution_count": null,
      "outputs": []
    }
  ]
}